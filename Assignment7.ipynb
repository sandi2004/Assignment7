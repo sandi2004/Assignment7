{
 "cells": [
  {
   "cell_type": "code",
   "execution_count": 5,
   "id": "8a0e9f32-1d75-41a9-8c6b-50ae94a2f214",
   "metadata": {},
   "outputs": [
    {
     "name": "stdout",
     "output_type": "stream",
     "text": [
      "List [1, 2, 3, 4, [44, 55, 66, True], (34, 56, 78, 89, 34), {1: 34, 'key2': [55, 67, 78, 89], 4: (45, 22, 61, 34)}, [56, 'data science'], 'Machine Learning']\n",
      "Flat List [1, 2, 3, 4, 44, 55, 66, True, (34, 56, 78, 89, 34), {1: 34, 'key2': [55, 67, 78, 89], 4: (45, 22, 61, 34)}, 56, 'data science', 'Machine Learning']\n"
     ]
    }
   ],
   "source": [
    "#ans no\n",
    "def flat(lis):\n",
    "    flatList = []\n",
    "    # Iterate with outer list\n",
    "    for element in lis:\n",
    "        if type(element) is list:\n",
    "            # Check if type is list than iterate through the sublist\n",
    "            for item in element:\n",
    "                flatList.append(item)\n",
    "        else:\n",
    "            flatList.append(element)\n",
    "    return flatList\n",
    " \n",
    " \n",
    "lis = [1,2,3,4,[44,55,66,True],(34,56,78,89,34),{1:34,\"key2\":[55,67,78,89],4:(45,22,61,34)},[56,'data science'],'Machine Learning']\n",
    "print('List', lis)\n",
    "print('Flat List', flat(lis))"
   ]
  },
  {
   "cell_type": "code",
   "execution_count": 11,
   "id": "90548935-2dab-4d9a-a000-f64b0a54aa47",
   "metadata": {},
   "outputs": [],
   "source": [
    "#ans no=2"
   ]
  },
  {
   "cell_type": "code",
   "execution_count": 12,
   "id": "0bb61518-7451-4781-809d-b6074b4d292e",
   "metadata": {},
   "outputs": [
    {
     "name": "stdout",
     "output_type": "stream",
     "text": [
      "tsitneizS$ztzD$z$emozey$ot$tnzw$Iaca\n"
     ]
    }
   ],
   "source": [
    "encrypt = \"I want to become a Data Scientist\"\n",
    " \n",
    "# Create a dictionary to store keys\n",
    "# and values\n",
    "dict = {\"a\": \"z\", \"b\": \"y\",\n",
    "        \"c\":\"z\",\" \":\"$\"}\n",
    "num = encrypt[::-1]\n",
    " \n",
    "# Replace vowels using loops\n",
    "for i in dict:\n",
    "    num = num.replace(i, dict[i])\n",
    " \n",
    "# f- strings which improves readability\n",
    "print(f\"{num}aca\")"
   ]
  },
  {
   "cell_type": "code",
   "execution_count": null,
   "id": "872ca2e7-1fc3-405c-9d59-ce01a5d6aa49",
   "metadata": {},
   "outputs": [],
   "source": []
  }
 ],
 "metadata": {
  "kernelspec": {
   "display_name": "Python 3 (ipykernel)",
   "language": "python",
   "name": "python3"
  },
  "language_info": {
   "codemirror_mode": {
    "name": "ipython",
    "version": 3
   },
   "file_extension": ".py",
   "mimetype": "text/x-python",
   "name": "python",
   "nbconvert_exporter": "python",
   "pygments_lexer": "ipython3",
   "version": "3.10.8"
  }
 },
 "nbformat": 4,
 "nbformat_minor": 5
}
